{
 "cells": [
  {
   "cell_type": "markdown",
   "id": "67f41514-15c9-4622-ba99-99265bff6b16",
   "metadata": {},
   "source": [
    "# Universidad Galielo\n",
    "## Ciencias de datos en Python \n",
    "### 3 de marzo del 2024 \n",
    "#### ***Diego Fernando Bran Arriola Carnet 24003821***"
   ]
  },
  {
   "cell_type": "markdown",
   "id": "75ef5e78-36b3-447e-9b24-390a826fac67",
   "metadata": {},
   "source": [
    "# laboratorio #2 "
   ]
  },
  {
   "cell_type": "markdown",
   "id": "e194a439-6c1f-4a9e-94a3-d7ebb4fb77e0",
   "metadata": {},
   "source": [
    "**Problema #1** :Haga un programa en Python que reciba de par ́ametro un nu ́mero de segundos y que despliegue en pantalla, las horas, minutos y segundos que representan. Por ejemplo:\n",
    "- Si el número de segundos recibidos fuera: 2743 entonces su programa deber ́ıa desplegar: Horas: 0, Minutos: 45 , Segundos: 43\n",
    "- Si el número de segundos recibidos fuera 5871: Horas: 1, Minutos: 37 , Segundos: 51\n",
    "Recuerde manejar excepciones y errores que considere necesarios.\n"
   ]
  },
  {
   "cell_type": "code",
   "execution_count": null,
   "id": "854e56dc-b0cd-4bce-a075-71d2ab7cbc51",
   "metadata": {},
   "outputs": [],
   "source": [
    "chk = True \n",
    "while chk:  \n",
    "    try: \n",
    "        entry = int(input('Ingrese un numero entero de segundos'))\n",
    "        if (entry >=0):\n",
    "            horas = int(entry/3600)\n",
    "            minutos = int(((entry/3600)-horas)*60)\n",
    "            segundos =int((((entry/3600)-horas)*60 - minutos)*60)\n",
    "            print(f'Horas:{horas}, Minutos:{minutos}, Segundos:{segundos}')\n",
    "            chk = False\n",
    "        else:\n",
    "            print('Ingrese un valor positivo :)')\n",
    "\n",
    "    except ValueError:\n",
    "        print('Error - Ingresó una letra')\n",
    "\n",
    "    \n",
    "\n",
    "    "
   ]
  },
  {
   "cell_type": "markdown",
   "id": "fd4c6e74-383f-4bf6-b28d-724b5f3838fc",
   "metadata": {},
   "source": [
    "**Problema #2** Haga una función en Python que dado un número entre 1 y 20. Y un carácter cualquiera despliegue cuatro patrones triangulares.\n",
    "Por ejemplo si el usuario ingresara el nu ́mero 4 y el s ́ımbolo * el programa deberá desplegar lo siguiente:\n"
   ]
  },
  {
   "cell_type": "code",
   "execution_count": null,
   "id": "d93d9846-072e-40c8-a044-876da62d87e3",
   "metadata": {},
   "outputs": [],
   "source": [
    "\n",
    "chk = True \n",
    "while chk:  \n",
    "    try:\n",
    "        simbolo= input('ingrese el simbolo')\n",
    "        numero = int(input('ingrese un numero'))\n",
    "        if len(simbolo)<=1 and 1<=numero<=20:\n",
    "            patron=''\n",
    "            for num in range(numero):\n",
    "                patron = patron + 2*((simbolo*(num+1) +(numero+1)*' ' +simbolo*(numero-num)) +(numero+1)*' ') + '\\n'\n",
    "            print(patron)\n",
    "            chk = False\n",
    "        else:\n",
    "            print('Ingreso más de un caracter en el simbolo y/o ingesó un numero fuera del intervalo [1,20]')\n",
    "\n",
    "\n",
    "    except ValueError:\n",
    "            print('Ingreso más de un caracter en el simbolo')\n",
    "            print('Error - Ingresó una letra en el espacio del numero')\n",
    "\n",
    "\n",
    "  \n",
    "\n",
    "\n"
   ]
  },
  {
   "cell_type": "markdown",
   "id": "5c1ad2a6-be66-497c-a64b-3919e5868d9c",
   "metadata": {},
   "source": [
    "**Problema 3** Haga un programa en Python que la fecha de nacimiento de una persona (puede ingresar por separado cada valor, es decir pedir primero d ́ıa, luego mes y luego año), despliegue la edad de la persona en años, meses y d ías. Su resultado puede ser aproximado."
   ]
  },
  {
   "cell_type": "code",
   "execution_count": null,
   "id": "793843b5-6c15-46fc-8343-dd47abfe9a3e",
   "metadata": {},
   "outputs": [],
   "source": []
  },
  {
   "cell_type": "code",
   "execution_count": null,
   "id": "3c1d2e22-3212-4226-90eb-38f95d1b7bcd",
   "metadata": {},
   "outputs": [],
   "source": [
    "\n",
    "from datetime import date\n",
    "from datetime import datetime\n",
    "\n",
    "try: \n",
    "    dia_in = int(input('ingrese el numero de día en el que nació ')) \n",
    "    mes_in = int(input('ingrese el numero del mes en el que nació '))\n",
    "    anio_in = int(input('ingrese el año en el que nació (4 digitos)'))\n",
    "    \n",
    "    today = str(date.today())\n",
    "    anio_hoy = int(today[0:4])\n",
    "    mes_hoy = int(today[5:7])\n",
    "    dia_hoy = int(today[8:10])\n",
    "\n",
    "    dif_anios = anio_hoy - anio_in\n",
    "    dif_mes = abs(mes_hoy-mes_in)\n",
    "    dif_dias = abs(dia_hoy-dia_in)\n",
    "\n",
    "\n",
    "\n",
    "    print(f'Su edad aproximada es {dif_anios} años con {dif_mes} meses y {dif_dias} días') \n",
    "\n",
    "except ValueError:\n",
    "    \n",
    "    \n",
    "    print('Debe ingresar valores numericos unicamente') \n",
    "\n",
    "\n"
   ]
  },
  {
   "cell_type": "markdown",
   "id": "8aefbe5a-bc2e-480f-b8dc-4662da5259c5",
   "metadata": {},
   "source": [
    "**Problema 4** Escriba una función en Python que dada una tupla de elementos (números o letras) esta se convierta a un string. Tomar nota del siguiente ejemplo:\n",
    "Si la entrada fuera: (10, 20, 40, 5, 70) La salida debería ser: 102040570"
   ]
  },
  {
   "cell_type": "code",
   "execution_count": null,
   "id": "e7d6e3ef-58ef-46ac-91ad-a9fe55aae273",
   "metadata": {},
   "outputs": [],
   "source": [
    "    \n",
    "def tupla_to_string(tupla):\n",
    "    string_tuple=''\n",
    "    for indx, elem in enumerate(tupla):\n",
    "        string_tuple = string_tuple + str(tupla[indx])\n",
    "    return string_tuple\n",
    "        \n",
    "\n",
    "\n",
    "tuple_in = (10,11,12,13) # arreglo de entrada   \n",
    "    \n",
    "print(tupla_to_string(tuple_in))"
   ]
  },
  {
   "cell_type": "markdown",
   "id": "1dc433fe-7c50-4baa-837d-25fe1e03fb5a",
   "metadata": {},
   "source": [
    "**Problema 5** Cree un programa en Python que dada una lista de tuplas, elimine las tuplas que est ́an vac ́ıas. Tomar nota del siguiente ejemplo:\n",
    "- Si la lista fuera: [(), (), (’X’,), (’a’, ’b’), (’a’, ’b’, ’c’), (’d’)] \n",
    "- El resultado deber ́ıa ser: [(’X’), (’a’, ’b’), (’a’, ’b’, ’c’), ’d’]\n"
   ]
  },
  {
   "cell_type": "code",
   "execution_count": null,
   "id": "87797680-617a-444e-ad04-152b3ade0c66",
   "metadata": {},
   "outputs": [],
   "source": [
    "tuple_list = [(),(), ('X'), ('a', 'b'), ('a', 'b','c'), ('d'), ()]\n",
    "\n",
    "def eliminar_tuplas_vacias(tup_list):\n",
    "    sizes= [len(tupla) for tupla in tup_list]\n",
    "    while(() in tup_list):\n",
    "        tuple_list.remove(())\n",
    "        \n",
    "    return tup_list\n",
    "    \n",
    "print(eliminar_tuplas_vacias(tuple_list))"
   ]
  },
  {
   "cell_type": "markdown",
   "id": "21bd9b2c-0757-4546-9c57-a10d5555ae79",
   "metadata": {},
   "source": [
    "**Problema 5** Cree una funci ́on en Python que dada una tupla de tuplas con nu ́meros, produzca una tupla con el promedio de cada tupla individual, debe usar comprehensions para desarrollar este ejercicio. Tomar nota del siguiente ejemplo:\n",
    "Si la tupla de entrada fuera: ((10, 10, 10, 12), (30, 45, 56, 45), (81, 80, 39, 32)) El resultado deber ́ıa ser: (10.5, 44, 58)\n"
   ]
  },
  {
   "cell_type": "code",
   "execution_count": null,
   "id": "96158392-e0b2-4b34-b1b0-cf48f5623609",
   "metadata": {},
   "outputs": [],
   "source": [
    "in_tuple = ((10,10,10,12),(30,45,56,45),(81,80,39,32))\n",
    "\n",
    "\n",
    "def avg_inside_tuples(tuple_in):\n",
    "    result = tuple(sum(tup_val)/len(tup_val) for tup_val in tuple_in)\n",
    "    return result\n",
    "    \n",
    "\n",
    "print(avg_inside_tuples(in_tuple))"
   ]
  },
  {
   "cell_type": "markdown",
   "id": "31a7469c-2fb4-4421-ae6b-d1024bed7184",
   "metadata": {},
   "source": [
    "**Problema 7** Escribir un programa que gestione las facturas pendientes de cobro de una empresa. Las facturas se almacenar ́an en un diccionario donde la llave de cada factura ser ́a el nu ́mero de factura (debe utilizar un numero de 4 d ́ıgitos) y el valor el coste de la factura. El programa debe preguntar al usuario si quiere an ̃adir una nueva factura, pagar una existente o terminar. Si desea an ̃adir una nueva factura se preguntar ́a por el nu ́mero de factura y su coste y se an ̃adir ́a al diccionario, para confirmar que la factura se ingreso correctamente el programa debe desplegar el diccionario completo. Si se desea pagar una factura se preguntar ́a por el nu ́mero de factura y se eliminar ́a del diccionario. Despu ́es de cada operaci ́on el programa debe mostrar en pantalla la cantidad cobrada hasta el momento y la cantidad pendiente de cobro. Puede utilizar otras estructuras de datos como apoyo si lo considera necesario."
   ]
  },
  {
   "cell_type": "code",
   "execution_count": 9,
   "id": "5dd66f96-7379-4f8d-9007-1776be2120e6",
   "metadata": {},
   "outputs": [
    {
     "name": "stdin",
     "output_type": "stream",
     "text": [
      "Ingrese \"I\" para ingresar una factura \n",
      " Ingrese \"P\" para pagar una factura existente \n",
      " Ingrese \"F\" para finalizar i\n",
      "Ingrese el No. de Factura 390\n"
     ]
    },
    {
     "name": "stdout",
     "output_type": "stream",
     "text": [
      "El Numero de factura debe ser de 4 dígitos, usted ingreso 3 digitos\n"
     ]
    },
    {
     "name": "stdin",
     "output_type": "stream",
     "text": [
      "Ingrese el No. de Factura 2341\n",
      "Ingrese el monto de la factura 2314\n"
     ]
    },
    {
     "name": "stdout",
     "output_type": "stream",
     "text": [
      "Facturas Pendientes de Cobro\n",
      "-----------------------------\n",
      "Facturas pendientes de cobro{2341: 2314.0}\n"
     ]
    },
    {
     "name": "stdin",
     "output_type": "stream",
     "text": [
      "Ingrese \"I\" para ingresar una factura \n",
      " Ingrese \"P\" para pagar una factura existente \n",
      " Ingrese \"F\" para finalizar i\n",
      "Ingrese el No. de Factura 3452\n",
      "Ingrese el monto de la factura 1324\n"
     ]
    },
    {
     "name": "stdout",
     "output_type": "stream",
     "text": [
      "Facturas Pendientes de Cobro\n",
      "-----------------------------\n",
      "Facturas pendientes de cobro{2341: 2314.0, 3452: 1324.0}\n"
     ]
    },
    {
     "name": "stdin",
     "output_type": "stream",
     "text": [
      "Ingrese \"I\" para ingresar una factura \n",
      " Ingrese \"P\" para pagar una factura existente \n",
      " Ingrese \"F\" para finalizar p\n",
      "ingrese el No. factura que desea Pagar 2431\n"
     ]
    },
    {
     "name": "stdout",
     "output_type": "stream",
     "text": [
      "Error - el numero de factura no existe\n"
     ]
    },
    {
     "name": "stdin",
     "output_type": "stream",
     "text": [
      "ingrese el No. factura que desea Pagar 2314\n"
     ]
    },
    {
     "name": "stdout",
     "output_type": "stream",
     "text": [
      "Error - el numero de factura no existe\n"
     ]
    },
    {
     "name": "stdin",
     "output_type": "stream",
     "text": [
      "ingrese el No. factura que desea Pagar 2341\n"
     ]
    },
    {
     "name": "stdout",
     "output_type": "stream",
     "text": [
      "Facturas pendientes de cobro{3452: 1324.0}\n",
      "Facturas cobradas{2341: 2314.0}\n"
     ]
    },
    {
     "name": "stdin",
     "output_type": "stream",
     "text": [
      "Ingrese \"I\" para ingresar una factura \n",
      " Ingrese \"P\" para pagar una factura existente \n",
      " Ingrese \"F\" para finalizar p\n",
      "ingrese el No. factura que desea Pagar m\n"
     ]
    },
    {
     "name": "stdout",
     "output_type": "stream",
     "text": [
      "Error - No ingreso un valor númerico\n"
     ]
    },
    {
     "name": "stdin",
     "output_type": "stream",
     "text": [
      "Ingrese \"I\" para ingresar una factura \n",
      " Ingrese \"P\" para pagar una factura existente \n",
      " Ingrese \"F\" para finalizar 000\n"
     ]
    },
    {
     "name": "stdout",
     "output_type": "stream",
     "text": [
      "Ingresó un caracter no admitido\n"
     ]
    },
    {
     "name": "stdin",
     "output_type": "stream",
     "text": [
      "Ingrese \"I\" para ingresar una factura \n",
      " Ingrese \"P\" para pagar una factura existente \n",
      " Ingrese \"F\" para finalizar 3452\n"
     ]
    },
    {
     "name": "stdout",
     "output_type": "stream",
     "text": [
      "Ingresó un caracter no admitido\n"
     ]
    },
    {
     "name": "stdin",
     "output_type": "stream",
     "text": [
      "Ingrese \"I\" para ingresar una factura \n",
      " Ingrese \"P\" para pagar una factura existente \n",
      " Ingrese \"F\" para finalizar p\n",
      "ingrese el No. factura que desea Pagar 3452\n"
     ]
    },
    {
     "name": "stdout",
     "output_type": "stream",
     "text": [
      "Facturas pendientes de cobro{}\n",
      "Facturas cobradas{2341: 2314.0, 3452: 1324.0}\n"
     ]
    },
    {
     "name": "stdin",
     "output_type": "stream",
     "text": [
      "Ingrese \"I\" para ingresar una factura \n",
      " Ingrese \"P\" para pagar una factura existente \n",
      " Ingrese \"F\" para finalizar f\n"
     ]
    },
    {
     "name": "stdout",
     "output_type": "stream",
     "text": [
      "F\n"
     ]
    }
   ],
   "source": [
    "chk = True\n",
    "fact_pend_cob = {}\n",
    "fact_cobradas = {}\n",
    "\n",
    "while chk: \n",
    "    \n",
    "    in_value = input('Ingrese \"I\" para ingresar una factura \\n Ingrese \"P\" para pagar una factura existente \\n Ingrese \"F\" para finalizar').upper()\n",
    "   \n",
    "    if in_value == 'I':\n",
    "        chk2 = True\n",
    "        while chk2:\n",
    "            try:\n",
    "                num_fact = int(input('Ingrese el No. de Factura'))\n",
    "                if (len(str(num_fact)) < 4):\n",
    "                    print(f'El Numero de factura debe ser de 4 dígitos, usted ingreso { len(str(num_fact))} digitos')\n",
    "                elif (len(str(num_fact)) > 4):\n",
    "                    print(f'El Numero de factura debe ser de 4 dígitos, usted ingreso {len(str(num_fact))} digitos')\n",
    "                else:\n",
    "                    chk3 = True\n",
    "                    while chk3:\n",
    "                        try: \n",
    "                            monto_fact = float(input('Ingrese el monto de la factura'))\n",
    "                            if(monto_fact < 0):\n",
    "                                print('El valor de la factura no puede ser negativo')\n",
    "                            else: \n",
    "                                fact_pend_cob[num_fact]= monto_fact\n",
    "                        \n",
    "                                print(f'Facturas pendientes de cobro{fact_pend_cob}')\n",
    "                                chk3 = False\n",
    "                                chk2 = False\n",
    "\n",
    "                        except ValueError:\n",
    "                            print('Error - No ingreso un valor númerico')\n",
    "            except ValueError:\n",
    "                    print('Error - No ingreso un valor númerico')\n",
    "\n",
    "\n",
    "\n",
    "    elif in_value == 'P':\n",
    "        chk4 = True\n",
    "        while chk4:\n",
    "            try: \n",
    "                id_fact = int(input('ingrese el No. factura que desea Pagar'))\n",
    "                if (len(str(id_fact)) < 4):\n",
    "                    print(f'El Numero de factura debe ser de 4 dígitos, usted ingreso { len(str(num_fact))} digitos')\n",
    "                elif (len(str(id_fact)) > 4):\n",
    "                    print(f'El Numero de factura debe ser de 4 dígitos, usted ingreso {len(str(num_fact))} digitos')\n",
    "                elif (id_fact in fact_pend_cob.keys()):\n",
    "                    paid = fact_pend_cob.pop(id_fact)\n",
    "                    fact_cobradas[id_fact]=paid\n",
    "                    print(f'Facturas pendientes de cobro{fact_pend_cob}')\n",
    "                    print(f'Facturas cobradas{fact_cobradas}')\n",
    "                    \n",
    "                    chk4 = False\n",
    "\n",
    "                else:\n",
    "                    print('Error - el numero de factura no existe')\n",
    "\n",
    "\n",
    "            except ValueError:\n",
    "                print('Error - No ingreso un valor númerico')\n",
    "                chk4 = False\n",
    "            \n",
    "        \n",
    "\n",
    "    elif in_value == 'F':\n",
    "        print(in_value)\n",
    "        chk = False\n",
    "    \n",
    "    else: \n",
    "        print('Ingresó un caracter no admitido')\n"
   ]
  },
  {
   "cell_type": "markdown",
   "id": "18b28664-3696-4b1e-bcbb-15373e29f2e8",
   "metadata": {},
   "source": [
    "**Problema 8** Haga una función en Python, que cree un set con todas las cartas de una baraja de Poc-ker utilizando el siguiente formato: Tipo-Numero. Utilice las letras T para tréboles, C para corazones, P para picas y E para espadas. Para los nu ́meros utilice la numeraci ́on del 1 al 13. Por ejemplo E13 - ser ́ıa Rey de Espadas, P01 ser ́ıa As de Picas, T05 ser ́ıa cinco de Tr ́eboles.\n",
    "Posteriormente cree una funci ́on que dado el conjunto anterior cree dos sets nuevos de cartas, cada conjunto debe tener una cantidad variable de elementos, puede utilizar nu ́meros aleato- rios enteros para definir la longitud de los conjuntos.\n",
    "Adicionalmente, deber ́a calcular la probabilidad de la intersecci ́on de ambos conjuntos y de- muestre si son eventos independientes con la regla del producto.\n",
    "Para concluir, calcule probabilidad de la uni ́on de ambos conjuntos y demuestre que se cumple la regla de la adici ́on."
   ]
  },
  {
   "cell_type": "code",
   "execution_count": 93,
   "id": "27b2a88c-31f7-4177-a25a-fd4b73516eea",
   "metadata": {},
   "outputs": [],
   "source": [
    "  \n",
    "    \n",
    "def poker_set_f():\n",
    "    lista_letras=['T', 'C','P','E']\n",
    "    lista_numeros=['01','02','03','04','05','06','07','08','09','10','11','12','13']\n",
    "\n",
    "    T_set = {lista_letras[0]+num for num in lista_numeros}\n",
    "    C_set = {lista_letras[1]+num for num in lista_numeros}\n",
    "    P_set = {lista_letras[2]+num for num in lista_numeros}\n",
    "    E_set = {lista_letras[3]+num for num in lista_numeros}\n",
    "\n",
    "    poker_set = T_set.union(C_set,P_set,E_set)\n",
    "    return poker_set\n"
   ]
  },
  {
   "cell_type": "code",
   "execution_count": 112,
   "id": "3fb5cc68-c9f6-4b62-945d-70889364eb4a",
   "metadata": {},
   "outputs": [],
   "source": [
    "import numpy as np \n",
    "\n",
    "\n",
    "def two_sets(poker_s):\n",
    "    poker_list=list(poker_s)\n",
    "    pks_1 = set()\n",
    "    pks_2 = set()\n",
    "\n",
    "    size_pks_1= np.random.randint(len(poker_s))\n",
    "    size_pks_2= np.random.randint(len(poker_s)-size_pks_1)\n",
    "\n",
    "    for i in range(size_pks_1):\n",
    "        pks_1.add(poker_list.pop(np.random.randint(1,len(poker_list))))\n",
    "        \n",
    "    for i in range(size_pks_2):\n",
    "        pks_2.add(poker_list.pop(np.random.randint(1,len(poker_list))))\n",
    "\n",
    "\n",
    "    \n",
    "    return pks_1,pks_2\n",
    "    "
   ]
  },
  {
   "cell_type": "code",
   "execution_count": 127,
   "id": "8b7f5d9e-25bd-40e4-8f8f-3414e43a6041",
   "metadata": {},
   "outputs": [
    {
     "name": "stdout",
     "output_type": "stream",
     "text": [
      "Conjunto pks_1 = {'T03', 'C09', 'P04', 'P10', 'T09', 'E07', 'T02', 'C05', 'T06', 'P03', 'E01', 'P06', 'P09', 'P07', 'C13', 'C11', 'T04', 'T08', 'E09', 'T12', 'C03', 'C06', 'C02', 'C04', 'T13', 'T01', 'C10', 'E13', 'P08', 'P12', 'E04', 'E03', 'P02', 'T07', 'T10', 'E10', 'T05'}\n",
      "\n",
      "Conjunto pks_2 = {'C12', 'P05', 'E11', 'P13', 'E06', 'C01', 'C08', 'P11', 'T11', 'E12', 'P01'}\n",
      "\n",
      "pks_1 U pks_2 = {'T03', 'C09', 'P04', 'P10', 'T09', 'E07', 'T02', 'P13', 'C05', 'E11', 'T06', 'P03', 'E01', 'P06', 'P09', 'E12', 'P07', 'C13', 'C11', 'T04', 'T08', 'E09', 'P05', 'T12', 'P11', 'T11', 'C03', 'P01', 'C06', 'C02', 'C04', 'T13', 'E06', 'T01', 'C10', 'E13', 'P08', 'P12', 'C12', 'E04', 'E03', 'C01', 'P02', 'T07', 'C08', 'T10', 'E10', 'T05'}\n",
      "\n",
      "pks_1 ^ pks_2 = set()\n",
      "\n"
     ]
    }
   ],
   "source": [
    "\n",
    "poker_set = poker_set_f()\n",
    "\n",
    "pks_1,pks_2 = two_sets(poker_set)\n",
    "\n",
    "print(f'Conjunto pks_1 = {pks_1}\\n')\n",
    "\n",
    "print(f'Conjunto pks_2 = {pks_2}\\n')\n",
    "\n",
    "\n",
    "Union_elements = pks_1.union(pks_2)\n",
    "\n",
    "print(f'pks_1 U pks_2 = {Union_elements}\\n')\n",
    "        \n",
    "intersection_elements = pks_1.intersection(pks_2)\n",
    "\n",
    "print(f'pks_1 ^ pks_2 = {intersection_elements}\\n')\n",
    "\n",
    "    \n",
    "    "
   ]
  },
  {
   "cell_type": "markdown",
   "id": "89f635f6-0a53-405a-a5da-8bac9cd08e4e",
   "metadata": {},
   "source": [
    "Tomando como espacio muestral todas las cartas de la baraja las probabilidades de pks_1, pks_2, su unión y su intersección serían las correpondientes"
   ]
  },
  {
   "cell_type": "code",
   "execution_count": 139,
   "id": "069e4a32-530a-4127-b84e-ec8dfa3ca2c6",
   "metadata": {},
   "outputs": [
    {
     "name": "stdout",
     "output_type": "stream",
     "text": [
      "Probabilida pks_1 = 0.7115384615384616\n",
      "Probabilida pks_2 = 0.21153846153846154\n",
      "Probabilidad de la Union = 0.9230769230769231\n",
      "Probabilidad de la intersección = 0.0\n"
     ]
    }
   ],
   "source": [
    "\n",
    "prob_pks_1 = len(pks_1)/len(poker_set)\n",
    "\n",
    "prob_pks_2 = len(pks_2)/len(poker_set)\n",
    "\n",
    "prob_union = len(Union_elements)/len(poker_set)\n",
    "\n",
    "prob_intersec = len(intersection_elements)/len(poker_set)\n",
    "\n",
    "print(f'Probabilida pks_1 = {prob_pks_1}')\n",
    "\n",
    "print(f'Probabilida pks_2 = {prob_pks_2}')\n",
    "\n",
    "print(f'Probabilidad de la Union = {prob_union}')\n",
    "\n",
    "print(f'Probabilidad de la intersección = {prob_intersec}')\n",
    "\n",
    "\n",
    "    "
   ]
  },
  {
   "cell_type": "markdown",
   "id": "d2d2e459-af19-432c-9b02-c4f7a5c08ab9",
   "metadata": {},
   "source": [
    "¿Son eventos independientes?"
   ]
  },
  {
   "cell_type": "code",
   "execution_count": 141,
   "id": "5ac8e1c7-f714-4f12-8f44-e9272fedadc5",
   "metadata": {},
   "outputs": [
    {
     "name": "stdout",
     "output_type": "stream",
     "text": [
      "La probabilidad de pks_1 dada la ocurrencia de pks_2 = 0.0\n"
     ]
    }
   ],
   "source": [
    "# para set idenpendientes P(pks_1) = P(pks_1 | pks_2)\n",
    "\n",
    "prob_pks_1_dado_pks_2 = prob_intersec/prob_pks_2\n",
    "\n",
    "print(f'La probabilidad de pks_1 dada la ocurrencia de pks_2 = \n",
    "      {prob_pks_1_dado_pks_2 }')"
   ]
  },
  {
   "cell_type": "markdown",
   "id": "1dff7dcf-b848-4b5d-99bb-d11b17859c79",
   "metadata": {},
   "source": [
    "Con esto se demuestra que la La probabilidad de pks_1 dada la ocurrencia de pks_2 no es la misma probabilidad de ocurrencia que la de pks_1 por lo que se concluye no son independientes"
   ]
  },
  {
   "cell_type": "markdown",
   "id": "c4ad7656-9086-4cf0-9d68-8886d0a02d2d",
   "metadata": {},
   "source": [
    "Probabilidad de la Union utilizando la regla de la adición"
   ]
  },
  {
   "cell_type": "code",
   "execution_count": 143,
   "id": "8c7a45b4-b9db-48ac-89e5-6b68ece500a7",
   "metadata": {},
   "outputs": [
    {
     "name": "stdout",
     "output_type": "stream",
     "text": [
      "Probabilidad de la Union = 0.9230769230769231\n"
     ]
    }
   ],
   "source": [
    "reg_adicion = prob_pks_1 + prob_pks_2 - prob_intersec\n",
    "\n",
    "print(f'Probabilidad de la Union = {reg_adicion}')"
   ]
  },
  {
   "cell_type": "code",
   "execution_count": 144,
   "id": "d4eba720-b4a8-4231-850a-e691c75a06d2",
   "metadata": {},
   "outputs": [
    {
     "name": "stdout",
     "output_type": "stream",
     "text": [
      "Probabilidad de la Union utilizando cardinalidades = 0.9230769230769231\n",
      "Probabilidad de la Union utilizando la regla de adición = 0.9230769230769231\n"
     ]
    }
   ],
   "source": [
    "print(f'Probabilidad de la Union utilizando cardinalidades = {prob_union}')\n",
    "\n",
    "print(f'Probabilidad de la Union utilizando la regla de adición = {reg_adicion}')\n",
    "\n",
    "\n",
    "\n",
    "\n"
   ]
  },
  {
   "cell_type": "code",
   "execution_count": null,
   "id": "bf25160f-f6c8-486a-9cb2-5e621f25753c",
   "metadata": {},
   "outputs": [],
   "source": []
  }
 ],
 "metadata": {
  "kernelspec": {
   "display_name": "Python 3 (ipykernel)",
   "language": "python",
   "name": "python3"
  },
  "language_info": {
   "codemirror_mode": {
    "name": "ipython",
    "version": 3
   },
   "file_extension": ".py",
   "mimetype": "text/x-python",
   "name": "python",
   "nbconvert_exporter": "python",
   "pygments_lexer": "ipython3",
   "version": "3.9.7"
  }
 },
 "nbformat": 4,
 "nbformat_minor": 5
}
